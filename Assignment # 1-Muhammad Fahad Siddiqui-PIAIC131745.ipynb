{
 "cells": [
  {
   "cell_type": "markdown",
   "metadata": {},
   "source": [
    "# Name : Muhammad Fahad Siddiqui\n",
    "# Roll# : PIAIC131745\n",
    "# Batch : 36"
   ]
  },
  {
   "cell_type": "markdown",
   "metadata": {
    "id": "Hs3-rqQLaMOs"
   },
   "source": [
    "**Grand Assignment**"
   ]
  },
  {
   "cell_type": "markdown",
   "metadata": {
    "id": "yoFPv_Hcb3Iv"
   },
   "source": [
    "***Variables and Strings***"
   ]
  },
  {
   "cell_type": "markdown",
   "metadata": {
    "id": "XLAWmJh_b9vr"
   },
   "source": [
    "*1.**Simple Message:** Assign a message to a variable, and then print that\n",
    "message.* "
   ]
  },
  {
   "cell_type": "code",
   "execution_count": 1,
   "metadata": {
    "id": "Xu9FoVk1aKtu"
   },
   "outputs": [
    {
     "name": "stdout",
     "output_type": "stream",
     "text": [
      "My name is Muhammad Fahad Siddiqui\n"
     ]
    }
   ],
   "source": [
    "msg = 'My name is Muhammad Fahad Siddiqui'\n",
    "print(msg)"
   ]
  },
  {
   "cell_type": "markdown",
   "metadata": {
    "id": "Ckp41qGzcMhY"
   },
   "source": [
    "2.Find a quote from a famous person you admire. Print the\n",
    "quote and the name of its author. Your output should look something like the\n",
    "following, including the quotation marks:\n",
    "\n",
    "**Albert Einstein once said, “A person who never made a\n",
    "mistake never tried anything new.”**\n"
   ]
  },
  {
   "cell_type": "code",
   "execution_count": 2,
   "metadata": {
    "id": "RAOYKTZDc9l5"
   },
   "outputs": [
    {
     "name": "stdout",
     "output_type": "stream",
     "text": [
      "Cristiano Ronaldo once said,\"Talent without hardwork is nothing.\"\n"
     ]
    }
   ],
   "source": [
    "name = 'Cristiano Ronaldo'\n",
    "quote = 'Talent without hardwork is nothing.'\n",
    "print(f'{name} once said,\"{quote}\"')"
   ]
  },
  {
   "cell_type": "markdown",
   "metadata": {
    "id": "5dsWBIrAduRU"
   },
   "source": [
    "*3. Use a variable to represent your favorite number. Then,\n",
    "using that variable, create a message that reveals your favorite number. Print\n",
    "that message*"
   ]
  },
  {
   "cell_type": "code",
   "execution_count": 3,
   "metadata": {
    "id": "n5bKUt2Xdxet"
   },
   "outputs": [
    {
     "name": "stdout",
     "output_type": "stream",
     "text": [
      "Enter your Favourite number 7\n",
      "Your favorite number is : 7 \n"
     ]
    }
   ],
   "source": [
    "num=int(input(\"Enter your Favourite number \"))\n",
    "print(f\"Your favorite number is : {num} \")"
   ]
  },
  {
   "cell_type": "markdown",
   "metadata": {
    "id": "03-7JmJFh1gu"
   },
   "source": [
    "4. **Calculate Area of a Circle::**\n",
    "\n",
    "Write a Python program which accepts the radius of a circle from the user and compute the area.\n",
    "\n",
    "Program Console Sample Output 1:\n",
    "\n",
    "Input Radius: 0.5\n",
    "\n",
    "Area of Circle with radius 0.5 is 0.7853981634"
   ]
  },
  {
   "cell_type": "code",
   "execution_count": 4,
   "metadata": {
    "id": "ZQqUhli7iD8V"
   },
   "outputs": [
    {
     "name": "stdout",
     "output_type": "stream",
     "text": [
      "Enter radius of Circle: 0.5\n",
      "0.7853981633974483\n"
     ]
    }
   ],
   "source": [
    "import math\n",
    "radius=float(input(\"Enter radius of Circle: \"))\n",
    "Area = math.pi*(radius**2)\n",
    "print(Area)"
   ]
  },
  {
   "cell_type": "markdown",
   "metadata": {
    "id": "_52LUHoriEdK"
   },
   "source": [
    "5. **Check Number either positive, negative or zero::**\n",
    "\n",
    "Write a Python program to check if a number is positive, \n",
    "\n",
    "negative or zero\n",
    "\n",
    "Program Console Sample Output 1:\n",
    "\n",
    "Enter Number: -1\n",
    "\n",
    "Negative Number Entered\n",
    "\n",
    "Program Console Sample Output 2:\n",
    "\n",
    "Integer: 3\n",
    "\n",
    "Positive Number Entered\n",
    "\n",
    "Program Console Sample Output 3:\n",
    "\n",
    "Integer: 0\n",
    "\n",
    "Zero Entered"
   ]
  },
  {
   "cell_type": "code",
   "execution_count": 5,
   "metadata": {
    "id": "_yLJAc80iXk0"
   },
   "outputs": [
    {
     "name": "stdout",
     "output_type": "stream",
     "text": [
      "Enter your number to check its postive,negative or zero : -1\n",
      "Negative Number Entered\n"
     ]
    }
   ],
   "source": [
    "num=int(input(\"Enter your number to check its postive,negative or zero : \"))\n",
    "\n",
    "if (num > 0):\n",
    "    print('Positive Number entered')\n",
    "elif (num < 0):\n",
    "    print('Negative Number Entered')\n",
    "else:\n",
    "    print('Zero Entered')"
   ]
  },
  {
   "cell_type": "code",
   "execution_count": 6,
   "metadata": {},
   "outputs": [
    {
     "name": "stdout",
     "output_type": "stream",
     "text": [
      "Enter your number to check its postive,negative or zero : 3\n",
      "Positive Number entered\n"
     ]
    }
   ],
   "source": [
    "num=int(input(\"Enter your number to check its postive,negative or zero : \"))\n",
    "\n",
    "if (num > 0):\n",
    "    print('Positive Number entered')\n",
    "elif (num < 0):\n",
    "    print('Negative Number Entered')\n",
    "else:\n",
    "    print('Zero Entered')"
   ]
  },
  {
   "cell_type": "code",
   "execution_count": 7,
   "metadata": {},
   "outputs": [
    {
     "name": "stdout",
     "output_type": "stream",
     "text": [
      "Enter your number to check its postive,negative or zero : 0\n",
      "Zero Entered\n"
     ]
    }
   ],
   "source": [
    "num=int(input(\"Enter your number to check its postive,negative or zero : \"))\n",
    "\n",
    "if (num > 0):\n",
    "    print('Positive Number entered')\n",
    "elif (num < 0):\n",
    "    print('Negative Number Entered')\n",
    "else:\n",
    "    print('Zero Entered')"
   ]
  },
  {
   "cell_type": "markdown",
   "metadata": {
    "id": "vjXA6uhpiYQX"
   },
   "source": [
    "6. **Vowel Tester**\n",
    "Write a Python program to test whether a passed letter is a vowel or not\n",
    "\n",
    "Program Console Output 1:\n",
    "\n",
    "Enter a character: A\n",
    "\n",
    "Letter A is Vowel\n",
    "\n",
    "Program Console Output 2:\n",
    "\n",
    "Enter a character: e\n",
    "\n",
    "Letter e is Vowel\n",
    "\n",
    "Program Console Output 2:\n",
    "\n",
    "Enter a character: N\n",
    "\n",
    "Letter N is not Vowel."
   ]
  },
  {
   "cell_type": "code",
   "execution_count": 8,
   "metadata": {
    "id": "L62zqtG1jEb9"
   },
   "outputs": [
    {
     "name": "stdout",
     "output_type": "stream",
     "text": [
      "Enter Letter : A\n",
      "Letter A is Vowel\n"
     ]
    }
   ],
   "source": [
    "vowels = ['a','e','i','o','u','A','E','I','O','U']\n",
    "alphabet=input(\"Enter Letter : \")\n",
    "if alphabet in vowels:\n",
    "    print(f'Letter {alphabet} is Vowel')\n",
    "else:\n",
    "    print(f'Letter {alphabet} is not Vowel')"
   ]
  },
  {
   "cell_type": "code",
   "execution_count": 9,
   "metadata": {},
   "outputs": [
    {
     "name": "stdout",
     "output_type": "stream",
     "text": [
      "Enter Letter : e\n",
      "Letter e is Vowel\n"
     ]
    }
   ],
   "source": [
    "vowels = ['a','e','i','o','u','A','E','I','O','U']\n",
    "alphabet=input(\"Enter Letter : \")\n",
    "if alphabet in vowels:\n",
    "    print(f'Letter {alphabet} is Vowel')\n",
    "else:\n",
    "    print(f'Letter {alphabet} is not Vowel')"
   ]
  },
  {
   "cell_type": "code",
   "execution_count": 10,
   "metadata": {},
   "outputs": [
    {
     "name": "stdout",
     "output_type": "stream",
     "text": [
      "Enter Letter : N\n",
      "Letter N is not Vowel\n"
     ]
    }
   ],
   "source": [
    "vowels = ['a','e','i','o','u','A','E','I','O','U']\n",
    "alphabet=input(\"Enter Letter : \")\n",
    "if alphabet in vowels:\n",
    "    print(f'Letter {alphabet} is Vowel')\n",
    "else:\n",
    "    print(f'Letter {alphabet} is not Vowel')"
   ]
  },
  {
   "cell_type": "markdown",
   "metadata": {
    "id": "qZIGjsnDjFdk"
   },
   "source": [
    "7. **BMI Calculator**\n",
    "\n",
    "Write a Python program to calculate body mass index\n",
    "Program Console Sample 1:\n",
    "\n",
    "Enter Height in Cm: 180\n",
    "\n",
    "Enter Weight in Kg: 75\n",
    "\n",
    "Your BMI is 23.15"
   ]
  },
  {
   "cell_type": "code",
   "execution_count": 11,
   "metadata": {
    "id": "lE-JyyTnjcJU"
   },
   "outputs": [
    {
     "name": "stdout",
     "output_type": "stream",
     "text": [
      "Enter Height in Cm : 180\n",
      "Enter Weight in Kg  : 75\n",
      "Your BMI is 23.148148148148145\n"
     ]
    }
   ],
   "source": [
    "import math\n",
    "height=float(input(\"Enter Height in Cm : \"))\n",
    "weight=float(input(\"Enter Weight in Kg  : \"))\n",
    "bmi=weight/(height/100)**2\n",
    "print(f\"Your BMI is {bmi}\")"
   ]
  },
  {
   "cell_type": "markdown",
   "metadata": {
    "id": "11fYzZYid3qq"
   },
   "source": [
    "**List::**"
   ]
  },
  {
   "cell_type": "markdown",
   "metadata": {
    "id": "oUNnrKdyeOks"
   },
   "source": [
    "8. **Store the names of a few of your friends in a list called names**\n",
    "\n",
    " Print each person’s name by accessing each element in the list, one at a time."
   ]
  },
  {
   "cell_type": "code",
   "execution_count": 12,
   "metadata": {
    "id": "RY49qmHQeOGB"
   },
   "outputs": [
    {
     "name": "stdout",
     "output_type": "stream",
     "text": [
      "Ammar\n",
      "Moiz\n",
      "Shareh\n",
      "Khubaib\n",
      "Shahzaib\n"
     ]
    }
   ],
   "source": [
    "friends = ['Ammar','Moiz','Shareh','Khubaib','Shahzaib']\n",
    "for friend in friends:\n",
    "    print(friend)"
   ]
  },
  {
   "cell_type": "markdown",
   "metadata": {
    "id": "HQe4CmBLd0a0"
   },
   "source": [
    "9. Start with the list you used in Question 4, but instead of just  printing each person’s name, print a message to them. The text of each message should be the same, but each message should be personalized with the\n",
    "person’s name."
   ]
  },
  {
   "cell_type": "code",
   "execution_count": 13,
   "metadata": {
    "id": "QfaA6SZieroG"
   },
   "outputs": [
    {
     "name": "stdout",
     "output_type": "stream",
     "text": [
      "Ammar is a good friend of mine.\n",
      "Moiz is a good friend of mine.\n",
      "Shareh is a good friend of mine.\n",
      "Khubaib is a good friend of mine.\n",
      "Shahzaib is a good friend of mine.\n"
     ]
    }
   ],
   "source": [
    "friends = ['Ammar','Moiz','Shareh','Khubaib','Shahzaib']\n",
    "for friend in friends:\n",
    "    print(f'{friend} is a good friend of mine.')"
   ]
  },
  {
   "cell_type": "markdown",
   "metadata": {
    "id": "3t-zoTSTesyI"
   },
   "source": [
    " 10.**Make a python program that conatains your nine favourite dishes in a list called foods.**\n",
    "Print the message, The first three items in the list are:\n",
    "\n",
    "Then use a slice to print the first three items from that program’s list.\n",
    "\n",
    "Print the message, Three items from the middle of the list are:\n",
    "\n",
    "Use a slice to print three items from the middle of the list.\n",
    "\n",
    "Print the message, The last three items in the list are:\n",
    "\n",
    "Use a slice to print the last three items in the list."
   ]
  },
  {
   "cell_type": "code",
   "execution_count": 19,
   "metadata": {
    "id": "ZpnPQbgAmQhu"
   },
   "outputs": [
    {
     "name": "stdout",
     "output_type": "stream",
     "text": [
      "The first three items in the list are :\n",
      "['Biryani', 'Paye', 'Tikka']\n",
      "\n",
      "\n",
      "Three items from the middle of the list are:\n",
      "['Chowmien', 'Steak', 'Pizza']\n",
      "\n",
      "\n",
      "Three items from the middle of the list are:\n",
      "['Pulao', 'Dampakht', 'Sajji']\n",
      "\n",
      "\n"
     ]
    }
   ],
   "source": [
    "foods = ['Biryani','Paye','Tikka','Chowmien','Steak','Pizza','Pulao','Dampakht','Sajji'] \n",
    "\n",
    "print('The first three items in the list are :')\n",
    "print(foods[:3])\n",
    "print('\\n')\n",
    "\n",
    "print('Three items from the middle of the list are:')\n",
    "print(foods[3:6])\n",
    "print('\\n')\n",
    "\n",
    "print('Three items from the middle of the list are:')\n",
    "print(foods[6:])\n",
    "print('\\n')"
   ]
  },
  {
   "cell_type": "markdown",
   "metadata": {
    "id": "h37WaaZKmRMe"
   },
   "source": [
    "11. **Start with your program from your last Question8.**\n",
    "Make a copy of the list of foods, and call it friend_foods.\n",
    "Then, do the following:\n",
    "\n",
    "Add a new dish to the original list.\n",
    "\n",
    "Add a different dish to the list friend_foods.\n",
    "\n",
    "Prove that you have two separate lists.\n",
    "\n",
    "Print the message, My favorite pizzas are: and then use a for loop to print the first list.\n",
    "\n",
    "Print the message,\n",
    "\n",
    "My friend’s favorite foods are:, and then use a for loop to print the second list.\n",
    "\n",
    "NOTE: Make sure each new dish is stored in the appropriate list."
   ]
  },
  {
   "cell_type": "code",
   "execution_count": 24,
   "metadata": {},
   "outputs": [
    {
     "name": "stdout",
     "output_type": "stream",
     "text": [
      "Make a copy of the list of foods, and call it friend_foods\n",
      "['Biryani', 'Paye', 'Tikka', 'Chowmien', 'Steak', 'Pizza', 'Pulao', 'Dampakht', 'Sajji', 'Qourma']\n",
      "['Biryani', 'Paye', 'Tikka', 'Chowmien', 'Steak', 'Pizza', 'Pulao', 'Dampakht', 'Sajji', 'Qourma']\n",
      "Make a copy of the list of foods, and call it friend_foods\n",
      "['Biryani', 'Paye', 'Tikka', 'Chowmien', 'Steak', 'Pizza', 'Pulao', 'Dampakht', 'Sajji', 'Qourma', 'Qourma']\n",
      "['Biryani', 'Paye', 'Tikka', 'Chowmien', 'Steak', 'Pizza', 'Pulao', 'Dampakht', 'Sajji', 'Qourma', 'Charga']\n",
      "\n",
      "\n",
      "My favorite foods are : \n",
      "Biryani\n",
      "Paye\n",
      "Tikka\n",
      "Chowmien\n",
      "Steak\n",
      "Pizza\n",
      "Pulao\n",
      "Dampakht\n",
      "Sajji\n",
      "Qourma\n",
      "Qourma\n",
      "\n",
      "\n",
      "My friend’s favorite foods are :\n",
      "Biryani\n",
      "Paye\n",
      "Tikka\n",
      "Chowmien\n",
      "Steak\n",
      "Pizza\n",
      "Pulao\n",
      "Dampakht\n",
      "Sajji\n",
      "Qourma\n",
      "Charga\n"
     ]
    }
   ],
   "source": [
    "print('Make a copy of the list of foods, and call it friend_foods')\n",
    "friend_foods = foods.copy()\n",
    "print(friend_foods)\n",
    "print(foods)\n",
    "\n",
    "print('Make a copy of the list of foods, and call it friend_foods')\n",
    "friend_foods.append('Charga')\n",
    "foods.append('Qourma')\n",
    "print(foods)\n",
    "print(friend_foods)\n",
    "print('\\n')\n",
    "\n",
    "print('My favorite foods are : ')\n",
    "for food in foods:\n",
    "    print(food)\n",
    "print('\\n')\n",
    "print('My friend’s favorite foods are :')\n",
    "for friend_food in friend_foods:\n",
    "    print(friend_food) \n",
    "\n",
    "\n",
    "# print('Make a copy of the list of foods, and call it friend_foods')\n",
    "# friend_foods = [foods]\n",
    "# print(foods)\n",
    "# print(friend_foods)\n",
    "# print('\\n')\n",
    "\n",
    "# print('Make a copy of the list of foods, and call it friend_foods')\n",
    "# friend_foods.append('Charga')\n",
    "# foods.append('Qourma')\n",
    "# print(foods)\n",
    "# print(friend_foods)\n",
    "# print('\\n')\n",
    "\n",
    "# print('My favorite foods are : ')\n",
    "# for food in foods:\n",
    "#     print(food)\n",
    "# print('\\n')\n",
    "# print('My friend’s favorite foods are :')\n",
    "# for friend_food in friend_foods:\n",
    "#     print(friend_food) \n",
    "\n",
    "# print('Make a copy of the list of foods, and call it friend_foods')\n",
    "# friend_foods = [foods]\n",
    "# print(foods)\n",
    "# print(friend_foods)\n",
    "# print('\\n')\n",
    "\n",
    "# print('Make a copy of the list of foods, and call it friend_foods')\n",
    "# friend_foods.append('Charga')\n",
    "# foods.append('Qourma')\n",
    "# print(foods)\n",
    "# print(friend_foods)\n",
    "# print('\\n')\n",
    "\n",
    "# print('My favorite foods are : ')\n",
    "# for food in foods:\n",
    "#     print(food)\n",
    "# print('\\n')\n",
    "# print('My friend’s favorite foods are :')\n",
    "# for friend_food in friend_foods:\n",
    "#     print(friend_food)\n",
    "\n",
    "# print('Make a copy of the list of foods, and call it friend_foods')\n",
    "# friend_foods = [foods]\n",
    "# print(foods)\n",
    "# print(friend_foods)\n",
    "# print('\\n')\n",
    "\n",
    "# print('Make a copy of the list of foods, and call it friend_foods')\n",
    "# friend_foods.append('Charga')\n",
    "# foods.append('Qourma')\n",
    "# print(foods)\n",
    "# print(friend_foods)\n",
    "# print('\\n')\n",
    "\n",
    "# print('My favorite foods are : ')\n",
    "# for food in foods:\n",
    "#     print(food)\n",
    "# print('\\n')\n",
    "# print('My friend’s favorite foods are :')\n",
    "# for friend_food in friend_foods:\n",
    "#     print(friend_food)"
   ]
  },
  {
   "cell_type": "code",
   "execution_count": null,
   "metadata": {},
   "outputs": [],
   "source": []
  }
 ],
 "metadata": {
  "colab": {
   "collapsed_sections": [],
   "name": "Assignment.ipynb",
   "provenance": []
  },
  "kernelspec": {
   "display_name": "Python 3 (ipykernel)",
   "language": "python",
   "name": "python3"
  },
  "language_info": {
   "codemirror_mode": {
    "name": "ipython",
    "version": 3
   },
   "file_extension": ".py",
   "mimetype": "text/x-python",
   "name": "python",
   "nbconvert_exporter": "python",
   "pygments_lexer": "ipython3",
   "version": "3.9.7"
  }
 },
 "nbformat": 4,
 "nbformat_minor": 1
}
